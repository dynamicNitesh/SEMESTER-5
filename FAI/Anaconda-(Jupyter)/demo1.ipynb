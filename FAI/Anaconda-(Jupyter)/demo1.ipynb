{
 "cells": [
  {
   "cell_type": "code",
   "execution_count": 1,
   "id": "50160128-f791-492e-9f7d-51c1e8053be2",
   "metadata": {},
   "outputs": [
    {
     "name": "stdout",
     "output_type": "stream",
     "text": [
      "[1 2 3]\n"
     ]
    }
   ],
   "source": [
    "import numpy as np\n",
    "arr=np.array([1,2,3])\n",
    "print(arr)"
   ]
  },
  {
   "cell_type": "code",
   "execution_count": 2,
   "id": "76088458-bdac-42bb-b5d2-da30d2b7ca6b",
   "metadata": {},
   "outputs": [
    {
     "name": "stdout",
     "output_type": "stream",
     "text": [
      "[ 0.90929743  0.14112001 -0.7568025 ]\n"
     ]
    }
   ],
   "source": [
    "array1=np.array([2,3,4,])\n",
    "print(np.sin(array1))"
   ]
  },
  {
   "cell_type": "code",
   "execution_count": 6,
   "id": "14a8fb65-54d1-48c3-a5cd-b9fa5fca65a2",
   "metadata": {},
   "outputs": [
    {
     "name": "stdout",
     "output_type": "stream",
     "text": [
      "<StringArray>\n",
      "['nitesh nadar']\n",
      "Length: 1, dtype: string\n"
     ]
    }
   ],
   "source": [
    "import pandas as np\n",
    "array=np.array(['nitesh nadar'])\n",
    "print(array)"
   ]
  }
 ],
 "metadata": {
  "kernelspec": {
   "display_name": "Python 3 (ipykernel)",
   "language": "python",
   "name": "python3"
  },
  "language_info": {
   "codemirror_mode": {
    "name": "ipython",
    "version": 3
   },
   "file_extension": ".py",
   "mimetype": "text/x-python",
   "name": "python",
   "nbconvert_exporter": "python",
   "pygments_lexer": "ipython3",
   "version": "3.12.4"
  }
 },
 "nbformat": 4,
 "nbformat_minor": 5
}
