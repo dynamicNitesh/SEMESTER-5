{
 "cells": [
  {
   "cell_type": "code",
   "execution_count": null,
   "id": "aaba044e-d50f-473b-80d3-88c0b4166b68",
   "metadata": {},
   "outputs": [],
   "source": [
    "# Define a function to read rules from the file\n",
    "def load_rules(filename):\n",
    "    rules = []\n",
    "    try:\n",
    "        with open(filename, 'r') as file:\n",
    "            for line in file:\n",
    "                if line.strip():  # Skip empty lines\n",
    "                    rules.append(line.strip())\n",
    "    except FileNotFoundError:\n",
    "        print(f\"Error: The file '{filename}' was not found.\")\n",
    "    return rules\n",
    "\n",
    "# Define a function to find a response based on user input\n",
    "def respond_to_input(user_input, rules):\n",
    "    for rule in rules:\n",
    "        # Split the rule into condition and response\n",
    "        parts = rule.split(\", \")\n",
    "        if len(parts) != 2:\n",
    "            continue\n",
    "        condition, response = parts\n",
    "        \n",
    "        # Check if the condition is in the user input\n",
    "        if condition.lower() in user_input.lower():\n",
    "            return response\n",
    "    \n",
    "    return \"Sorry, I don't understand that.\"\n",
    "\n",
    "# Main function\n",
    "def main():\n",
    "    filename = 'rules.txt'\n",
    "    rules = load_rules(filename)\n",
    "    \n",
    "    if not rules:\n",
    "        print(\"No rules loaded. Exiting.\")\n",
    "        return\n",
    "    \n",
    "    print(\"Type 'exit' to quit.\")\n",
    "    while True:\n",
    "        user_input = input(\"You: \")\n",
    "        if user_input.lower() == 'exit':\n",
    "            print(\"Goodbye!\")\n",
    "            break\n",
    "        response = respond_to_input(user_input, rules)\n",
    "        print(\"Bot:\", response)\n",
    "\n",
    "if __name__ == '__main__':\n",
    "    main()\n"
   ]
  }
 ],
 "metadata": {
  "kernelspec": {
   "display_name": "Python 3 (ipykernel)",
   "language": "python",
   "name": "python3"
  },
  "language_info": {
   "codemirror_mode": {
    "name": "ipython",
    "version": 3
   },
   "file_extension": ".py",
   "mimetype": "text/x-python",
   "name": "python",
   "nbconvert_exporter": "python",
   "pygments_lexer": "ipython3",
   "version": "3.12.4"
  }
 },
 "nbformat": 4,
 "nbformat_minor": 5
}
