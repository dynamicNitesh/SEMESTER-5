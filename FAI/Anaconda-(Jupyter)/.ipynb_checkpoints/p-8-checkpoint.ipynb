{
 "cells": [
  {
   "cell_type": "code",
   "execution_count": 1,
   "id": "ee5bac3f-fd08-4dfb-953a-6d7e252a392a",
   "metadata": {},
   "outputs": [
    {
     "name": "stdout",
     "output_type": "stream",
     "text": [
      "\n",
      "|   |   |   |\n",
      "|   |   |   |\n",
      "|   |   |   |\n",
      "\n",
      "Your turn player 1\n"
     ]
    },
    {
     "name": "stdin",
     "output_type": "stream",
     "text": [
      "Enter your move (1-9):  1\n"
     ]
    },
    {
     "name": "stdout",
     "output_type": "stream",
     "text": [
      "\n",
      "| X |   |   |\n",
      "|   |   |   |\n",
      "|   |   |   |\n",
      "\n",
      "Your turn player 2\n"
     ]
    },
    {
     "name": "stdin",
     "output_type": "stream",
     "text": [
      "Enter your move (1-9):  1\n"
     ]
    },
    {
     "name": "stdout",
     "output_type": "stream",
     "text": [
      "\n",
      "That space is already taken!\n",
      "\n",
      "| X |   |   |\n",
      "|   |   |   |\n",
      "|   |   |   |\n",
      "\n",
      "Your turn player 1\n"
     ]
    },
    {
     "name": "stdin",
     "output_type": "stream",
     "text": [
      "Enter your move (1-9):  3\n"
     ]
    },
    {
     "name": "stdout",
     "output_type": "stream",
     "text": [
      "\n",
      "| X |   | X |\n",
      "|   |   |   |\n",
      "|   |   |   |\n",
      "\n",
      "Your turn player 2\n"
     ]
    },
    {
     "name": "stdin",
     "output_type": "stream",
     "text": [
      "Enter your move (1-9):  4\n"
     ]
    },
    {
     "name": "stdout",
     "output_type": "stream",
     "text": [
      "\n",
      "| X |   | X |\n",
      "| O |   |   |\n",
      "|   |   |   |\n",
      "\n",
      "Your turn player 1\n"
     ]
    },
    {
     "name": "stdin",
     "output_type": "stream",
     "text": [
      "Enter your move (1-9):  5\n"
     ]
    },
    {
     "name": "stdout",
     "output_type": "stream",
     "text": [
      "\n",
      "| X |   | X |\n",
      "| O | X |   |\n",
      "|   |   |   |\n",
      "\n",
      "Your turn player 2\n"
     ]
    },
    {
     "name": "stdin",
     "output_type": "stream",
     "text": [
      "Enter your move (1-9):  6\n"
     ]
    },
    {
     "name": "stdout",
     "output_type": "stream",
     "text": [
      "\n",
      "| X |   | X |\n",
      "| O | X | O |\n",
      "|   |   |   |\n",
      "\n",
      "Your turn player 1\n"
     ]
    },
    {
     "name": "stdin",
     "output_type": "stream",
     "text": [
      "Enter your move (1-9):  7\n"
     ]
    },
    {
     "name": "stdout",
     "output_type": "stream",
     "text": [
      "\n",
      "| X |   | X |\n",
      "| O | X | O |\n",
      "| X |   |   |\n",
      "\n",
      "X wins! Congratulations!\n"
     ]
    }
   ],
   "source": [
    "board = [\" \" for x in range(9)]\n",
    "def print_board():\n",
    "    row1 = \"| {} | {} | {} |\".format(board[0], board[1], board[2])\n",
    "    row2 = \"| {} | {} | {} |\".format(board[3], board[4], board[5])\n",
    "    row3 = \"| {} | {} | {} |\".format(board[6], board[7], board[8])\n",
    "\n",
    "\n",
    "    print(row1)\n",
    "    print(row2)\n",
    "    print(row3)\n",
    "def player_move(icon):\n",
    "    if icon == \"X\":\n",
    "        number = 1\n",
    "    elif icon == \"O\":\n",
    "        number = 2\n",
    "    print(\"Your turn player {}\".format(number))\n",
    "    choice = int(input(\"Enter your move (1-9): \").strip())\n",
    "    if board[choice - 1] == \" \":\n",
    "        board[choice - 1] = icon\n",
    "    else:\n",
    "        print()\n",
    "        print(\"That space is already taken!\")\n",
    "def is_victory(icon):\n",
    "    if (board[0] == icon and board[1] == icon and board[2] == icon) or \\\n",
    "       (board[3] == icon and board[4] == icon and board[5] == icon) or \\\n",
    "       (board[6] == icon and board[7] == icon and board[8] == icon) or \\\n",
    "       (board[0] == icon and board[3] == icon and board[6] == icon) or \\\n",
    "       (board[1] == icon and board[4] == icon and board[7] == icon) or \\\n",
    "       (board[2] == icon and board[5] == icon and board[8] == icon) or \\\n",
    "       (board[0] == icon and board[4] == icon and board[8] == icon) or \\\n",
    "       (board[2] == icon and board[4] == icon and board[6] == icon):\n",
    "        return True\n",
    "    else:\n",
    "        return False\n",
    "def is_draw():\n",
    "    if \" \" not in board:\n",
    "        return True\n",
    "    else:\n",
    "        return False\n",
    "while True:\n",
    "    print_board()\n",
    "    player_move(\"X\")\n",
    "    print_board()\n",
    "    if is_victory(\"X\"):\n",
    "        print(\"X wins! Congratulations!\")\n",
    "        break\n",
    "    elif is_draw():\n",
    "        print(\"It's a draw!\")\n",
    "        break\n",
    "    player_move(\"O\")\n",
    "    if is_victory(\"O\"):\n",
    "        print_board()\n",
    "        print(\"O wins! Congratulations!\")\n",
    "        break\n",
    "    elif is_draw():\n",
    "        print(\"It's a draw!\")\n",
    "        break\n",
    "\n",
    "\n"
   ]
  },
  {
   "cell_type": "code",
   "execution_count": null,
   "id": "5f51d3ac-9918-4aa5-832c-d5336c2e9914",
   "metadata": {},
   "outputs": [],
   "source": []
  }
 ],
 "metadata": {
  "kernelspec": {
   "display_name": "Python 3 (ipykernel)",
   "language": "python",
   "name": "python3"
  },
  "language_info": {
   "codemirror_mode": {
    "name": "ipython",
    "version": 3
   },
   "file_extension": ".py",
   "mimetype": "text/x-python",
   "name": "python",
   "nbconvert_exporter": "python",
   "pygments_lexer": "ipython3",
   "version": "3.12.4"
  }
 },
 "nbformat": 4,
 "nbformat_minor": 5
}
