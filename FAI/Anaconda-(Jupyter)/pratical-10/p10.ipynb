{
 "cells": [
  {
   "cell_type": "code",
   "execution_count": 4,
   "id": "bd88a61d-bb9e-45b5-a471-ff2db3957dc1",
   "metadata": {},
   "outputs": [
    {
     "name": "stdout",
     "output_type": "stream",
     "text": [
      "First Name            67\n",
      "Gender               145\n",
      "Start Date             0\n",
      "Last Login Time        0\n",
      "Salary                 0\n",
      "Bonus %                0\n",
      "Senior Management     67\n",
      "Team                  43\n",
      "dtype: int64\n"
     ]
    }
   ],
   "source": [
    "import pandas as pd\n",
    "\n",
    "# Read the CSV file\n",
    "df = pd.read_csv('employees.csv')\n",
    "\n",
    "# Identify missing values\n",
    "miss_value=pd.isnull(df).sum()\n",
    "print(miss_value)"
   ]
  },
  {
   "cell_type": "code",
   "execution_count": null,
   "id": "d5b7bbb8-61bb-44ff-9673-8976dd48639a",
   "metadata": {},
   "outputs": [],
   "source": []
  }
 ],
 "metadata": {
  "kernelspec": {
   "display_name": "Python 3 (ipykernel)",
   "language": "python",
   "name": "python3"
  },
  "language_info": {
   "codemirror_mode": {
    "name": "ipython",
    "version": 3
   },
   "file_extension": ".py",
   "mimetype": "text/x-python",
   "name": "python",
   "nbconvert_exporter": "python",
   "pygments_lexer": "ipython3",
   "version": "3.12.4"
  }
 },
 "nbformat": 4,
 "nbformat_minor": 5
}
