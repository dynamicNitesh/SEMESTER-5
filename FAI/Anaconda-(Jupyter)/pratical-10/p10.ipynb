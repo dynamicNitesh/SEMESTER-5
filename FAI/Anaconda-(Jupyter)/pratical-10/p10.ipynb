{
 "cells": [
  {
   "cell_type": "code",
   "execution_count": 16,
   "id": "bd88a61d-bb9e-45b5-a471-ff2db3957dc1",
   "metadata": {},
   "outputs": [
    {
     "name": "stdout",
     "output_type": "stream",
     "text": [
      "First Name            67\n",
      "Gender               145\n",
      "Start Date             0\n",
      "Last Login Time        0\n",
      "Salary                 0\n",
      "Bonus %                0\n",
      "Senior Management     67\n",
      "Team                  43\n",
      "dtype: int64\n",
      "\n",
      "\n",
      "    First Name  Gender  Start Date Last Login Time  Salary  Bonus %  \\\n",
      "1       Thomas    Male   3/31/1996         6:53 AM   61933    4.170   \n",
      "7          NaN  Female   7/20/2015        10:43 AM   45906   11.598   \n",
      "10      Louise  Female   8/12/1980         9:01 AM   63241   15.132   \n",
      "20        Lois     NaN   4/22/1995         7:18 PM   64714    4.934   \n",
      "22      Joshua     NaN    3/8/2012         1:58 AM   90816   18.816   \n",
      "..         ...     ...         ...             ...     ...      ...   \n",
      "961    Antonio     NaN   6/18/1989         9:37 PM  103050    3.050   \n",
      "972     Victor     NaN   7/28/2006         2:49 PM   76381   11.159   \n",
      "985    Stephen     NaN   7/10/1983         8:10 PM   85668    1.909   \n",
      "989     Justin     NaN   2/10/1991         4:58 PM   38344    3.794   \n",
      "995      Henry     NaN  11/23/2014         6:09 AM  132483   16.655   \n",
      "\n",
      "    Senior Management             Team  \n",
      "1                True              NaN  \n",
      "7                 NaN          Finance  \n",
      "10               True              NaN  \n",
      "20               True            Legal  \n",
      "22               True  Client Services  \n",
      "..                ...              ...  \n",
      "961             False            Legal  \n",
      "972              True            Sales  \n",
      "985             False            Legal  \n",
      "989             False            Legal  \n",
      "995             False     Distribution  \n",
      "\n",
      "[236 rows x 8 columns]\n"
     ]
    }
   ],
   "source": [
    "import pandas as pd\n",
    "\n",
    "# Read the CSV file\n",
    "df = pd.read_csv('employees.csv')\n",
    "\n",
    "# Identify missing values\n",
    "miss_value=pd.isnull(df).sum()\n",
    "print(miss_value)\n",
    "\n",
    "print(\"\\n\")\n",
    "\n",
    "#It display the missing data of a person\n",
    "miss_value1=df[pd.isnull(df).any(axis=1)]\n",
    "print(miss_value1)\n"
   ]
  },
  {
   "cell_type": "code",
   "execution_count": null,
   "id": "d5b7bbb8-61bb-44ff-9673-8976dd48639a",
   "metadata": {},
   "outputs": [],
   "source": []
  }
 ],
 "metadata": {
  "kernelspec": {
   "display_name": "Python 3 (ipykernel)",
   "language": "python",
   "name": "python3"
  },
  "language_info": {
   "codemirror_mode": {
    "name": "ipython",
    "version": 3
   },
   "file_extension": ".py",
   "mimetype": "text/x-python",
   "name": "python",
   "nbconvert_exporter": "python",
   "pygments_lexer": "ipython3",
   "version": "3.12.4"
  }
 },
 "nbformat": 4,
 "nbformat_minor": 5
}
