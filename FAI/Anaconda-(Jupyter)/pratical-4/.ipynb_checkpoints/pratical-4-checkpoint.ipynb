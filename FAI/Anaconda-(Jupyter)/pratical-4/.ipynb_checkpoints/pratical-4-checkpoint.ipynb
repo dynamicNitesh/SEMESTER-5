{
 "cells": [
  {
   "cell_type": "code",
   "execution_count": 2,
   "id": "7e558ce5-745c-454a-91d3-1f54188f78a2",
   "metadata": {},
   "outputs": [
    {
     "name": "stdout",
     "output_type": "stream",
     "text": [
      "Type your input (type 'exit' to quit):\n"
     ]
    },
    {
     "name": "stdin",
     "output_type": "stream",
     "text": [
      ">  hello\n"
     ]
    },
    {
     "name": "stdout",
     "output_type": "stream",
     "text": [
      "Hi there! How can I help you?\n"
     ]
    },
    {
     "name": "stdin",
     "output_type": "stream",
     "text": [
      ">  hello\n"
     ]
    },
    {
     "name": "stdout",
     "output_type": "stream",
     "text": [
      "Hi there! How can I help you?\n"
     ]
    },
    {
     "name": "stdin",
     "output_type": "stream",
     "text": [
      ">  nitesh\n"
     ]
    },
    {
     "name": "stdout",
     "output_type": "stream",
     "text": [
      "Hello Nitesh\n"
     ]
    },
    {
     "name": "stdin",
     "output_type": "stream",
     "text": [
      ">  exit\n"
     ]
    },
    {
     "name": "stdout",
     "output_type": "stream",
     "text": [
      "Goodbye Bro\n"
     ]
    }
   ],
   "source": [
    "def load_rules(file_path):\n",
    "    rules = {}\n",
    "    with open(file_path, 'r') as file:\n",
    "        for line in file:\n",
    "            if line.strip():  # Check if the line is not empty\n",
    "                condition, response = line.split(' THEN ')\n",
    "                condition = condition.replace('IF ', '').strip().lower()\n",
    "                response = response.strip()\n",
    "                rules[condition] = response\n",
    "    return rules\n",
    "\n",
    "def respond_to_user_input(rules, user_input):\n",
    "    user_input = user_input.strip().lower()\n",
    "    return rules.get(user_input, \"Sorry, I don't understand that.\")\n",
    "\n",
    "def main():\n",
    "    # Load rules from the file\n",
    "    rules = load_rules('rules.txt')\n",
    "    # Continuously ask for user input and respond\n",
    "    print(\"Type your input (type 'exit' to quit):\")\n",
    "    while True:\n",
    "        user_input = input('> ')\n",
    "        if user_input.lower() == 'exit':\n",
    "            print(\"Goodbye Bro\")\n",
    "            break\n",
    "        response = respond_to_user_input(rules, user_input)\n",
    "        print(response)\n",
    "\n",
    "if __name__ == '__main__':\n",
    "    main()"
   ]
  },
  {
   "cell_type": "code",
   "execution_count": null,
   "id": "0e5ca440-0415-4189-9d6f-1d9e6217d2e3",
   "metadata": {},
   "outputs": [],
   "source": []
  }
 ],
 "metadata": {
  "kernelspec": {
   "display_name": "Python 3 (ipykernel)",
   "language": "python",
   "name": "python3"
  },
  "language_info": {
   "codemirror_mode": {
    "name": "ipython",
    "version": 3
   },
   "file_extension": ".py",
   "mimetype": "text/x-python",
   "name": "python",
   "nbconvert_exporter": "python",
   "pygments_lexer": "ipython3",
   "version": "3.12.4"
  }
 },
 "nbformat": 4,
 "nbformat_minor": 5
}
